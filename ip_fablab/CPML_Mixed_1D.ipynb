{
 "cells": [
  {
   "cell_type": "markdown",
   "id": "74e9b792",
   "metadata": {},
   "source": [
    "# 1D Wave Equation\n",
    "\n",
    "## Staggered grid formulation\n",
    "\n",
    "The 1D (acoustic) wave equation in velocity-pressure formulation is a coupled system of two first-order partial differential equations\n",
    "\n",
    "$$\n",
    "\\rho \\frac{\\partial v}{\\partial t} = \\frac{\\partial  p}{\\partial x} , \\quad x \\in [0,L], \\quad t >0,\n",
    "$$\n",
    "$$\n",
    "\\frac{\\partial p}{\\partial t}   = \\mu \\frac{\\partial v}{\\partial x}  + f, \\quad x \\in [0,L], \\quad t >0,\n",
    "$$\n",
    "\n",
    "where,\n",
    "\n",
    "- $ p $ is the pressure,\n",
    "- $ \\rho $ is the density,\n",
    "- $ v $ is the velocity,\n",
    "- $ \\mu = \\rho c^2 $ is the shear modulus, and\n",
    "- $ f $ is the source (in the fluid).\n",
    "\n",
    "The initial condition is set to zero,\n",
    "\n",
    "$$ v(x,0) = p(x,0) = 0, $$\n",
    "\n",
    "since we are using a time-dependent source\n",
    "\n",
    "$$ f(x,t) = F(t) \\delta(x), $$\n",
    "\n",
    "where \n",
    "\n",
    "$$ \\delta(x)=\\begin{cases}\n",
    "1, & x=x_{s},\\\\\n",
    "0, & \\mathrm{elsewhere}.\n",
    "\\end{cases}\n",
    "$$\n",
    "\n",
    "and $F(t)$ is either a Gaussian or some type of Ricker wavelet.\n",
    "\n",
    "For grid staggering, the discrete velocity and pressure are defined on a regularly spaced grid in space and time. Then, partial derivatives are replaced with centered finite-difference approximations of the first derivatives. However, these are not defined at the grid points  but midway between them.\n",
    "In 2nd-order grid staggering the following computational scheme is used\n",
    "\n",
    "$$\n",
    "\\frac{v_i^{j+ \\tfrac{1}{2}} - v_i^{j- \\tfrac{1}{2}} }{\\Delta t} \\ = \\ \\frac{1}{\\rho_i}\\frac{p_{i + \\tfrac{1}{2}}^j - p_{i - \\tfrac{1}{2}}^j }{h} \n",
    "$$\n",
    "\n",
    "$$\n",
    "\\frac{p_{i+\\tfrac{1}{2}}^{j+1} - p_{i+\\tfrac{1}{2}}^j }{\\Delta t} \\ = \\ \\mu_{i+\\tfrac{1}{2}}  \\frac{v_{i + 1}^{j +\\tfrac{1}{2}} - v_i^{j + \\tfrac{1}{2}} }{h} + f_{i+\\tfrac{1}{2}}^j\n",
    "$$\n",
    "\n",
    "The explicit scheme becomes\n",
    "\n",
    "$$\n",
    "v_i^{j+ \\tfrac{1}{2}} \\ = \\ v_i^{j- \\tfrac{1}{2}}  + \\frac{\\Delta t}{h} \\frac{1}{\\rho_i}  \\left(p_{i + \\tfrac{1}{2}}^j - p_{i - \\tfrac{1}{2}}^j \\right) \\ \n",
    "$$\n",
    "\n",
    "$$\n",
    "p_{i+\\tfrac{1}{2}}^{j+1} \\ = \\  p_{i+\\tfrac{1}{2}}^j  + \\frac{\\Delta t}{h} \\ \\mu_{i+\\tfrac{1}{2}} \\left( v_{i + 1}^{j +\\tfrac{1}{2}} - v_i^{j + \\tfrac{1}{2}} \\right)  + \\Delta t \\  f_{i+\\tfrac{1}{2}}^j\n",
    "$$\n",
    "\n",
    "\n",
    "**Note that in the codes below we do not deal with the index fractions.** We use the convention\n",
    "\n",
    "$$  v^{j - \\tfrac{1}{2}} \\rightarrow v [n-1],$$\n",
    "\n",
    "$$  v^{j+ \\tfrac{1}{2}} \\rightarrow v [n],$$\n",
    "\n",
    "and\n",
    "\n",
    "$$  p_{i - \\tfrac{1}{2}} \\rightarrow p [i-1],$$\n",
    "\n",
    "$$  p_{i+ \\tfrac{1}{2}} \\rightarrow p [i].$$\n",
    "\n",
    "### General Formulation\n",
    "\n",
    "We can formulate a more general, 2nd-4th order scheme as follows.\n",
    "\n",
    "$$\n",
    "v_i^{j+ \\tfrac{1}{2}} \\ = \\ v_i^{j- \\tfrac{1}{2}}  +  \\frac{1}{\\rho_i} \\frac{\\Delta t}{h} \\left[ a \\left( p_{i + \\tfrac{3}{2}}^j - p_{i - \\tfrac{3}{2}}^j \\right) + b \\left( p_{i + \\tfrac{1}{2}}^j - p_{i - \\tfrac{1}{2}}^j \\right) \\right]\n",
    "$$\n",
    "\n",
    "$$\n",
    "p_{i+\\tfrac{1}{2}}^{j+1} \\ = \\  p_{i+\\tfrac{1}{2}}^j  + \\mu_{i+\\tfrac{1}{2}} \\frac{\\Delta t}{h} \\ \\left[ a  \\left( v_{i + 2}^{j +\\tfrac{1}{2}} - v_{i-1}^{j + \\tfrac{1}{2}} \\right) \n",
    "+ b \\left(v_{i + 1}^{j +\\tfrac{1}{2}} - v_i^{j + \\tfrac{1}{2}} \\right) + \\Delta t \\  f_{i+\\tfrac{1}{2}}^j\n",
    "\\right]\n",
    "$$\n",
    "\n",
    "where \n",
    "\n",
    "- for 4th order in space: $a = -1/24,$ $b = 9/8$\n",
    "- for 2nd order in space:  $a = 0,$ $b = 1.$\n",
    "\n",
    "The 4th order scheme is particularly useful/indicated for discontinuous media, where it can provide a less oscillatory solution. (**TBC**)\n",
    "\n",
    "## Boundary conditions\n",
    "\n",
    "We will use a CPML absorbing boundary condition at the left-hand extremity, $x=0,$ as formulated below, and a mixed boundary condition at the right-hand extremity, $x=L.$\n",
    "\n",
    "The mixed condition is written as\n",
    "\n",
    "$$ \\frac{\\partial u}{\\partial n} + \\alpha u = \\beta, $$\n",
    "\n",
    "where $u = v$ or $u=p,$ the normal derivative is just $d/dx$ in 1D and when $\\alpha=0$ we obtain a pure Neumann condition.\n",
    "\n",
    "We will use a second-order accurate approximation of $du/dx$ at $x=x_M=L,$\n",
    "\n",
    "$$ \\frac{du}{dx} \\approx \\frac{3u_M - 4u_{M-1} + u_{M-2}}{2h} $$\n",
    "\n",
    "the right-hand extremity.  The approximate mixed condition then gives an equation for the unknown value\n",
    "\n",
    "$$ u_M = \\frac{1}{3+2h\\alpha}(2h\\beta + 4u_{M-1} - u_{M-2}  ).$$\n",
    "\n",
    "For the fourth-order scheme, we will use the same scheme, since derivative boundary conditions can become quite \"unwieldy\" in this case---see Strikwerda, 2005.\n",
    "\n",
    "An alternative, is to use a centrered difference,\n",
    "\n",
    "$$ \\frac{du}{dx} \\approx \\frac{u_{M+1} - u_{M-1}}{2h} $$\n",
    "\n",
    "and the stencil for the wave equation at $x=x_M,$ to eliminate the \"ghost\" value $u_{M+1} .$\n"
   ]
  },
  {
   "cell_type": "markdown",
   "id": "37ecc298",
   "metadata": {},
   "source": [
    "# CPML boundary condition\n",
    "\n",
    "## Damping function\n",
    "\n",
    "Set up the 1D damping function, $d_x(x),$ in the PML regions, i.e. at one or both extremities of the 1D interval in this case.\n",
    "\n",
    "$$ d_x(x) = \\begin{cases}\n",
    "d_0 \\left( \\dfrac{x}{\\ell}  \\right)^m, & x \\in \\Omega_{\\mathrm{pml}}\\\\\n",
    "0, & x\\in \\Omega \\setminus \\Omega_{\\mathrm{pml}}\n",
    "\\end{cases}   \n",
    "$$\n",
    "\n",
    "where \n",
    "\n",
    "$$ d_0 = \\frac{(m+1)c_p \\log (1/R_c)}{2\\ell}$$\n",
    "\n",
    "and\n",
    "\n",
    "- $m$ is the polynomial decay order, usually 2, 3 or 4\n",
    "- $\\ell$ is the width of the PML layer\n",
    "- $c_p$ is the compressional wave speed\n",
    "- $R_c$ is the desired reflection coefficient at normal incidence, usually $10^{-4}$ to $10^{-6}$"
   ]
  },
  {
   "cell_type": "code",
   "execution_count": 29,
   "id": "52dc9ab7",
   "metadata": {},
   "outputs": [
    {
     "data": {
      "image/png": "[encoded data removed]",
      "text/plain": [
       "<Figure size 1152x360 with 2 Axes>"
      ]
     },
     "metadata": {
      "needs_background": "light"
     },
     "output_type": "display_data"
    }
   ],
   "source": [
    "import numpy as np\n",
    "import matplotlib.pyplot as plt\n",
    "import matplotlib.animation as animation\n",
    "#plt.rcParams['text.usetex'] = True\n",
    "# setup 1D domain, Omega\n",
    "Nx = 101 #11 #100 # number of points (or dx)\n",
    "L  = 1  # length\n",
    "xL = 0  # left bdy\n",
    "xR = xL + L  # right bdy\n",
    "# setup PML domain, Omega_pml\n",
    "pml_width = 0.1*Nx #input variable! maybe % of L\n",
    "dx = L/(Nx-1) \n",
    "l  = pml_width*dx\n",
    "# other parameters\n",
    "R_c = 1.e-4\n",
    "c_p = 1 #3300\n",
    "m   = 4\n",
    "dt = dx # for the moment... \n",
    "f0 = 1 #1000 # 1kHz source, say\n",
    "#\n",
    "d0 = (m+1)*c_p*np.log(1/R_c) / (2*l)\n",
    "#\n",
    "d_x  = np.zeros(Nx) #  half grid cells\n",
    "d_xm = np.zeros(Nx) # grid cells \n",
    "Psi_v = np.zeros(Nx) # velocity memory variable\n",
    "Psi_p = np.zeros(Nx) # pressure memory variable\n",
    "# setup d(x)\n",
    "for mm in range(int(pml_width)):\n",
    "    d_x[mm+1]     = d0*((pml_width-mm-0.5)/pml_width)**m # left - at half grid cell (for p)\n",
    "    d_xm[mm]      = d0*((pml_width-mm)/pml_width)**m     # left - at grid cell\n",
    "    #d_x[Nx-mm-1]  = d0*((pml_width-mm-0.5)/pml_width)**m  # right - at half grid cell(for p)\n",
    "    #d_xm[Nx-mm-1] = d0*((pml_width-mm)/pml_width)**m # right - at grid cell\n",
    "# plot the damping function\n",
    "x = dx*np.arange(0,Nx,1)\n",
    "from matplotlib.patches import Rectangle\n",
    "fig, ax = plt.subplots(figsize=(16,5))\n",
    "ax1 = plt.subplot(121)\n",
    "ax1.plot(x,d_xm)\n",
    "ax1.add_patch(Rectangle((0,0), l, np.max(d_xm),color='green', alpha=0.25))\n",
    "#ax1.add_patch(Rectangle((L-l,0),l,np.max(d_xm),color='green', alpha=0.25))\n",
    "plt.xlabel('x'), plt.ylabel('d_m(x)'), plt.grid()\n",
    "ax2 = plt.subplot(122)\n",
    "ax2.plot(x,d_x)\n",
    "ax2.add_patch(Rectangle((0,0),  l,np.max(d_xm),color='green', alpha=0.25))\n",
    "#ax2.add_patch(Rectangle((L-l,0),l,np.max(d_xm),color='green', alpha=0.25))\n",
    "plt.xlabel('x'), plt.ylabel('d(x)'), plt.grid()\n",
    "plt.show()"
   ]
  },
  {
   "cell_type": "markdown",
   "id": "f6a0cab2",
   "metadata": {},
   "source": [
    "## Memory variables\n",
    "\n",
    "The CPML is based on the stretched coordinate, \n",
    "\n",
    "$$ s_c = \\kappa_x + \\frac{d_x}{\\alpha_x + \\mathrm{i} \\omega}, $$\n",
    "\n",
    "where $d_x$ is the damping function defined above, $\\kappa_x  $ and $\\alpha_x $ are positive constants and $\\omega$ is the frequency. The classical PML is a special case, obtained for $\\kappa_x  = 1$ and $\\alpha_x = 0.$ Transforming back to the time domain, we obtain the change of variables for the $x$-derivative,\n",
    "\n",
    "$$ \\partial_{x} \\rightarrow \\partial_{\\tilde{x}} = \\frac{1}{\\kappa_x} \\partial_x + \\psi_x,$$\n",
    "\n",
    "where the *memory variable,* $\\psi_x,$ is computed by the time-update\n",
    "\n",
    "$$\n",
    "  \\psi_x^n = b_x \\psi_x^{n-1} + a_x (\\partial_x)^{n+1/2} \n",
    "$$\n",
    "with the coefficients\n",
    "$$\n",
    "  a_x = \\frac{d_x}{\\kappa_x(d_x + \\kappa_x \\alpha_x)} (b_x - 1)\n",
    "$$\n",
    "and\n",
    "$$\n",
    "  b_x = \\mathrm{e}^{-\\left({d_x}/{\\kappa_x} + \\alpha_x \\right)\\Delta t}.\n",
    "$$\n",
    "\n",
    "For the stretched coordinate coefficients, we will fix $\\kappa_x = 1$ since it has very little effect on elastic wave propagation (evanescent waves) and  $\\alpha_x$ varies linearly in the layer from $\\alpha_\\mathrm{max}$ at $x=x_L $ and $x=x_R$ to zero at the outer edges of the layers, $x=x_L -l$ and $x=x_R + l,$ respectively. Finally, we set $\\alpha_\\mathrm{max} = \\pi f_0,$  where $f_0$ is the dominant frequency of the source. "
   ]
  },
  {
   "cell_type": "code",
   "execution_count": 30,
   "id": "76d691b2",
   "metadata": {},
   "outputs": [
    {
     "data": {
      "image/png": "[encoded data removed]",
      "text/plain": [
       "<Figure size 576x360 with 1 Axes>"
      ]
     },
     "metadata": {
      "needs_background": "light"
     },
     "output_type": "display_data"
    }
   ],
   "source": [
    "kappa_x = 1\n",
    "alpha_max = np.pi * f0 *10**(-4) # must be << d_max\n",
    "alpha_x  = np.zeros(Nx) #+1) #  half grid cells\n",
    "alpha_xm = np.zeros(Nx) #+1) # grid cells \n",
    "for mm in range(int(pml_width)):\n",
    "    alpha_x[mm+1]     = alpha_max*((pml_width-mm-0.5)/pml_width) # left - at half grid cell (for p)\n",
    "    alpha_xm[mm]      = alpha_max - alpha_max*((pml_width-mm)/pml_width)  # left - at grid cell\n",
    "    #alpha_x[Nx-mm-1]  = alpha_max*((pml_width-mm-0.5)/pml_width)  # right - at half grid cell(for p)\n",
    "    #alpha_xm[Nx-mm-1] = alpha_max - alpha_max*((pml_width-mm)/pml_width) # right - at grid cell\n",
    "# in 1D, with normal incidence only, alpha is not necessary at all...\n",
    "alpha_x  = np.zeros(Nx) #+1) #  half grid cells\n",
    "alpha_xm = np.zeros(Nx) #+1) # grid cells \n",
    "fig, ax = plt.subplots(figsize=(8,5))\n",
    "ax.plot(x,alpha_xm)\n",
    "ax.add_patch(Rectangle((0,-0.01),l,0.02,color='green', alpha=0.25))\n",
    "#ax.add_patch(Rectangle((L-l,0),l,np.max([np.max(alpha_xm),0.]),color='green', alpha=0.25))\n",
    "plt.xlabel('x',fontsize=14), plt.ylabel(r\"$\\alpha(x)$\",fontsize=14), plt.grid()\n",
    "plt.show()\n",
    "# a_x, b_x for p\n",
    "bp_x = np.exp(-(d_x/kappa_x + alpha_x)*dt)\n",
    "ap_x = np.zeros(Nx)\n",
    "#Ip  = np.arange(1, int(pml_width))\n",
    "Ip  = np.arange(0, int(pml_width))\n",
    "#Ipm = np.arange(Nx-int(pml_width), Nx)\n",
    "ap_x[Ip+1]  = d_x[Ip+1]/ (kappa_x*(d_x[Ip+1]  + kappa_x*alpha_x[Ip+1]))  * (bp_x[Ip+1] - 1)#ap_x[Ip]  = (bp_x[Ip] - 1) # assumes kappa=1, alpha=0 !!!\n",
    "#ap_x[Ipm] = d_x[Ipm]/(kappa_x*(d_x[Ipm] + kappa_x*alpha_x[Ipm])) * (bp_x[Ipm] - 1)\n",
    "# a_x, b_x for v\n",
    "bv_x = np.exp(-(d_xm/kappa_x + alpha_xm)*dt)\n",
    "av_x = np.zeros(Nx+1)\n",
    "av_x[Ip]  = d_xm[Ip] /(kappa_x*(d_xm[Ip]  + kappa_x*alpha_xm[Ip]))  * (bv_x[Ip] - 1)\n",
    "#av_x[Ipm] = d_xm[Ipm]/(kappa_x*(d_xm[Ipm] + kappa_x*alpha_xm[Ipm])) * (bv_x[Ipm] - 1)"
   ]
  },
  {
   "cell_type": "markdown",
   "id": "e618fbdd",
   "metadata": {},
   "source": [
    "## Time loop\n",
    "\n",
    "Here we need an extra equation for updating the memory variable $\\psi .$"
   ]
  },
  {
   "cell_type": "code",
   "execution_count": 31,
   "id": "f67997bb",
   "metadata": {},
   "outputs": [
    {
     "data": {
      "image/png": "[encoded data removed]",
      "text/plain": [
       "<Figure size 576x360 with 1 Axes>"
      ]
     },
     "metadata": {
      "needs_background": "light"
     },
     "output_type": "display_data"
    }
   ],
   "source": [
    "# Mixed condition coefficients\n",
    "alpha = 0 #1.# 0.1 #-1. #0.01 #0.1 #0.1 #0 #1\n",
    "beta  = 0#0.1# 0.1 #0.01 #0.1 #0.1 #0 #1\n",
    "# Source \n",
    "src_width = 5 #4 # 30.0*np.sqrt(epsilon)\n",
    "delay = 10*src_width\n",
    "src_x = int(Nx/2.0)\n",
    "def source(current_time, delay, src_width):\n",
    "    return np.exp(-(current_time - delay)**2/(2.0*src_width**2))\n",
    "# Initialize\n",
    "# --- Compute time and space mesh ---\n",
    "T = 3 #10 #3 #2 # or something that's long enough to see the PML working...\n",
    "Nt = int(round(T/dt))\n",
    "t = np.linspace(0, Nt*dt, Nt+1)      # Mesh points in time\n",
    "CFL = 1\n",
    "r = CFL*(dt/dx)\n",
    "rhoA = 1\n",
    "# --- Valid indices for space and time mesh ---\n",
    "Ix = range(0, Nx)\n",
    "It = range(0, Nt+1)\n",
    "# order = 2\n",
    "#I = np.arange(1,Nx-1) # vectorized x-indexing (2nd order scheme only)\n",
    "#I = np.arange(0,Nx-2) # vectorized x-indexing (2nd order scheme only)\n",
    "# variable material profile\n",
    "slowness_factor = 1   # homogeneous=1, otherwise inhomogeneous\n",
    "medium = [0.75, 0.85] # inhomogeneity (step)\n",
    "c_0 = 1\n",
    "def c(x):\n",
    "    return c_0/slowness_factor \\\n",
    "            if medium[0] <= x <= medium[1] else c_0\n",
    "# Call c(x) and fill array c\n",
    "#x = np.linspace(0, L, Nx)          # Mesh points in space\n",
    "c_ = np.zeros(x.shape)\n",
    "for i in range(Nx):\n",
    "    c_[i] = c(x[i])\n",
    "c = c_  \n",
    "#\n",
    "rho_0 = 1\n",
    "rho = rho_0\n",
    "rhoA = rho                                    # Arithmetic average = constant, here\n",
    "cH = np.zeros(x.shape)\n",
    "cH[1:-1]  = 2* (c[1:-1] * c[2:])/(c[1:-1] + c[2:]) # Harmonic average\n",
    "cH[0]    = c[0]\n",
    "cH[Nx-1] = c[Nx-1]\n",
    "# Plot the source\n",
    "src = np.zeros(Nt)\n",
    "for n in It[1:-1]:\n",
    "    src[n-1] = source(n,delay,src_width)\n",
    "plt.figure(figsize=(8,5)) #, dpi=200)\n",
    "plt.plot(t[:-1],src)\n",
    "plt.xlabel(\"t\")\n",
    "plt.ylabel(\"f(t)\")\n",
    "plt.title(\"Iniital pulse, f(t).\")\n",
    "plt.show()"
   ]
  },
  {
   "cell_type": "code",
   "execution_count": 32,
   "id": "7c030e39",
   "metadata": {},
   "outputs": [
    {
     "name": "stdout",
     "output_type": "stream",
     "text": [
      "creating and saving the animation...\n",
      "...done!\n"
     ]
    },
    {
     "data": {
      "image/png": "[encoded data removed]",
      "text/plain": [
       "<Figure size 720x576 with 2 Axes>"
      ]
     },
     "metadata": {
      "needs_background": "light"
     },
     "output_type": "display_data"
    }
   ],
   "source": [
    "# --- Allocate memory for solutions ---\n",
    "v     = np.zeros(Nx)   # Solution array at new time level\n",
    "p     = np.zeros(Nx)   # Solution array at new time level\n",
    "dv    = np.zeros(Nx)   # Solution difference at 1 time level back\n",
    "dp    = np.zeros(Nx)   # Solution difference at 1 time level back\n",
    "Psi_v = np.zeros(Nx)   # memory variable, Psi, for v\n",
    "Psi_p = np.zeros(Nx)   # memory variable, Psi, for p\n",
    "# Initialize the plot\n",
    "title = \"FD Elastic 1D staggered grid\"\n",
    "fig = plt.figure(figsize=(10,8))\n",
    "vm = 0.004 # 0.4\n",
    "ax1 = fig.add_subplot(2, 1, 1)\n",
    "ax2 = fig.add_subplot(2, 1, 2)\n",
    "ax1.add_patch(Rectangle((0,-vm),  l,vm,color='green', alpha=0.25))\n",
    "#ax1.add_patch(Rectangle((L-l,-vm),l,vm,color='green', alpha=0.25))\n",
    "#line1 = ax1.plot(x, v, color = \"red\", lw = 1.5)\n",
    "#line2 = ax2.plot(x, p, color = \"blue\", lw = 1.5)\n",
    "ax1.set_ylabel('velocity (m/s)')\n",
    "ax2.set_xlabel('x (m)')\n",
    "ax2.set_ylabel('stress (Pa)')\n",
    "plts = []\n",
    "# --- Time loop ---\n",
    "isnap = 5 # plot every isnap snapshots\n",
    "order = 2 # choose order of spatial scheme: 2 or 4\n",
    "if order == 2:\n",
    "    a = 0\n",
    "    b = 1\n",
    "    #I = np.arange(0,Nx-1) # vectorized x-indexing (2nd order scheme)\n",
    "    I = np.arange(0,Nx-1) # vectorized x-indexing (2nd order scheme)\n",
    "elif order == 4:\n",
    "    a = -1./24.\n",
    "    b = 9./8.\n",
    "    I = np.arange(1,Nx-2) # vectorized x-indexing (4th order scheme)\n",
    "# loop:\n",
    "for n in It[1:-1]:\n",
    "    # v-equation\n",
    "    #dp[I]    = p[I+1] - p[I]\n",
    "    #Psi_v[I] = bv_x[I]*Psi_v[I] + av_x[I]*dp[I] # update memory variable for v\n",
    "    #v[I]     = v[I] + (r/rhoA)*dp[I] + r*Psi_v[I] # must check coeff of Psi !!!\n",
    "    #print(\"n =\",n)\n",
    "    if order == 2:\n",
    "        # 2nd order scheme\n",
    "        #Psi_v[I] = bv_x[I]*Psi_v[I] + av_x[I]*(p[I] - p[I-1]) # PML update memory variable for v\n",
    "        #v[I]     = v[I] + (r/rhoA)*(p[I] - p[I-1]) + r*Psi_v[I] # v update\n",
    "        Psi_v[I] = bv_x[I]*Psi_v[I] + av_x[I]*(p[I+1] - p[I]) # update memory variable for v\n",
    "        v[I]     = v[I] + (r/rhoA)*(p[I+1] - p[I]) + r*Psi_v[I] # must check coeff of Psi !!!\n",
    "        # debug\n",
    "        #with np.printoptions(precision=2, suppress=True):\n",
    "        #    print('v = ',v)\n",
    "        # Homogeneous, Dirichlet on v...\n",
    "        # mixed BC at x=L\n",
    "        #v[Nx-2] = (2*dx*beta + 4*v[Nx-3] - v[Nx-4])/(3 + 2*dx*alpha)\n",
    "        #v[Nx-1] = (2*dx*beta + 4*v[Nx-2] - v[Nx-3])/(3 + 2*dx*alpha)\n",
    "    elif order == 4:\n",
    "        # 4th order scheme\n",
    "        Psi_v[I] = bv_x[I]*Psi_v[I] + av_x[I]*(p[I+1] - p[I]) # PML update memory variable for v\n",
    "        v[I]     = v[I] + (r/rhoA)*(a*(p[I+2] - p[I-1]) + b*(p[I+1] - p[I])) + r*Psi_v[I] # v update\n",
    "        v[Nx-2]  = v[Nx-2] + (r/rhoA)*(p[Nx-1] - p[Nx-2]) + r*Psi_v[Nx-2] # 2nd order at RH edge\n",
    "        # mixed BC at x=L\n",
    "        #v[Nx-2] = (2*dx*beta + 4*v[Nx-3] - v[Nx-4])/(3 + 2*dx*alpha)\n",
    "        v[Nx-1] = (2*dx*beta + 4*v[Nx-2] - v[Nx-3])/(3 + 2*dx*alpha)\n",
    "    # p-equation\n",
    "    #dv[I+1]    = v[I+1] - v[I]\n",
    "    #Psi_p[I+1] = bp_x[I+1]*Psi_p[I+1] + ap_x[I+1]*dv[I+1] # update memory variable for p\n",
    "    #p[I+1]     = p[I+1] + cH[I]*r*dv[I+1] + r*Psi_p[I+1] # must check coeff of Psi !!!\n",
    "    if order == 2:\n",
    "        # 2nd order scheme\n",
    "        I1 = np.arange(0,Nx-2)\n",
    "        #Psi_p[I1] = bp_x[I1]*Psi_p[I1] + ap_x[I1]*(v[I1] - v[I1-1]) # PML update memory variable for p\n",
    "        #p[I1]     = p[I1] + cH[I1]*r*(v[I1+1] - v[I1]) + r*Psi_p[I1] # p update\n",
    "        Psi_p[I1+1] = bp_x[I1+1]*Psi_p[I1+1] + ap_x[I1+1]*(v[I1+1] - v[I1]) # update memory variable for p\n",
    "        p[I1+1]     = p[I1+1] + cH[I1]*r*(v[I1+1] - v[I1]) + r*Psi_p[I1+1] # must check coeff of Psi !!!\n",
    "        # mixed BC at x=L\n",
    "        p[Nx-1] = (2*dx*beta + 4*p[Nx-2] - p[Nx-3])/(3 + 2*dx*alpha)\n",
    "    elif order == 4:\n",
    "        # 4th order scheme\n",
    "        Psi_p[I+1] = bp_x[I+1]*Psi_p[I+1] + ap_x[I+1]*(v[I+1] - v[I]) # PML update memory variable for p\n",
    "        p[I+1]     = p[I+1] + cH[I]*r*(a*(v[I+2] - v[I-1]) + b*(v[I+1] - v[I])) + r*Psi_p[I+1] # p update\n",
    "        p[Nx-2]    = p[Nx-2] + cH[Nx-3]*r*(v[Nx-2] - v[Nx-3]) + r*Psi_p[Nx-2] # 2nd order at RH edge\n",
    "        # mixed BC at x=L\n",
    "        p[Nx-1] = (2*dx*beta + 4*p[Nx-2] - p[Nx-3])/(3 + 2*dx*alpha)\n",
    "    p[src_x]+= dt*source(n, delay, src_width) # dt*f(x[I], t[n]) \n",
    "    # debug\n",
    "    #with np.printoptions(precision=2, suppress=True):\n",
    "    #    print('p = ',p)\n",
    "    # Updating the plots\n",
    "    if not n % isnap: \n",
    "        ax1.set_title(title + \", time step: %i\" % (n))  \n",
    "        vm = 0.006 #0.5\n",
    "        pm = 0.01 #1.0\n",
    "        ax1.add_patch(Rectangle((0,-vm),  l,2*vm,color='lightgreen',alpha=0.1))\n",
    "        #ax1.add_patch(Rectangle((L-l,-vm),l,2*vm,color='lightgreen',alpha=0.1))\n",
    "        p1, = ax1.plot(x, v, color = \"red\", lw = 1.5)\n",
    "        ax2.add_patch(Rectangle((0,-0.1*pm), l,pm,color='lightgreen',alpha=0.1))\n",
    "        #ax2.add_patch(Rectangle((L-l,-0.1),l,0.6,color='lightgreen',alpha=0.1))\n",
    "        #p2, = ax2.plot(x, p[:-1], color = \"blue\", lw = 1.5)\n",
    "        p2, = ax2.plot(x, p, color = \"blue\", lw = 1.5)\n",
    "        ax1.set_ylabel('velocity (m/s)')\n",
    "        ax2.set_xlabel('x (m)')\n",
    "        ax2.set_ylabel('pressure (Pa)')\n",
    "        plts.append( [p1, p2] ) \n",
    "# save the animation?\n",
    "anim = True #False #True\n",
    "if anim:\n",
    "    print('creating and saving the animation...')\n",
    "    ani = animation.ArtistAnimation(fig, plts, interval=50, repeat_delay=3000)#, blit=True)\n",
    "    Writer = animation.writers['ffmpeg']\n",
    "    writer = Writer(fps=15, metadata=dict(artist='Me'), bitrate=3600)\n",
    "    ani.save(\"cpml_mixed_1D.mp4\", writer=writer)\n",
    "    #ani.save(\"cpml_1D1.mkv\", writer=writer)\n",
    "    #ani.save(\"cpml_1D0.gif\", writer=writer) \n",
    "    print('...done!')"
   ]
  },
  {
   "cell_type": "code",
   "execution_count": null,
   "id": "c612e337",
   "metadata": {},
   "outputs": [],
   "source": []
  },
  {
   "cell_type": "code",
   "execution_count": 33,
   "id": "570e398f",
   "metadata": {
    "scrolled": true
   },
   "outputs": [
    {
     "name": "stdout",
     "output_type": "stream",
     "text": [
      "PML errors at t=3.0: |e_v| = 4.83e-09, |e_p| = 3.03e-08\n"
     ]
    },
    {
     "data": {
      "image/png": "[encoded data removed]",
      "text/plain": [
       "<Figure size 576x360 with 1 Axes>"
      ]
     },
     "metadata": {
      "needs_background": "light"
     },
     "output_type": "display_data"
    }
   ],
   "source": [
    "# check PML precision\n",
    "Nx1 = int(pml_width)+1\n",
    "Nx2 = Nx - 2 #int(pml_width)\n",
    "err_pml_v = np.max(v[Nx1:Nx2]) \n",
    "err_pml_p = np.max(p[Nx1:Nx2]) \n",
    "print(\"PML errors at t=%.1f: |e_v| = %.3g, |e_p| = %.3g\" % (T, err_pml_v, err_pml_p))\n",
    "plt.figure(figsize=(8,5)) #, dpi=200)\n",
    "Ix_int =  np.arange(Nx1,Nx2)\n",
    "plt.plot(x[Ix_int],v[Ix_int],x[Ix_int],p[Ix_int])\n",
    "#plt.plot(x,v[1:],x,p[:-1])\n",
    "#plt.ylim(-0.5,0.5)\n",
    "plt.legend((\"v\",\"p\"), shadow=True, fontsize=16, loc = 'lower left')\n",
    "plt.xlabel('x', fontsize=16)\n",
    "plt.grid()"
   ]
  },
  {
   "cell_type": "code",
   "execution_count": 1,
   "id": "e9ef3637",
   "metadata": {},
   "outputs": [
    {
     "data": {
      "text/html": [
       "<video controls loop width=\"640\" height=\"480\">\n",
       "  <source src=\"./examples/cpml_mixed_1D.mp4\" type=\"video/mp4\">\n",
       "</video>\n"
      ],
      "text/plain": [
       "<IPython.core.display.HTML object>"
      ]
     },
     "metadata": {},
     "output_type": "display_data"
    }
   ],
   "source": [
    "%%HTML\n",
    "<video controls loop width=\"640\" height=\"480\">\n",
    "  <source src=\"./examples/cpml_mixed_1D.mp4\" type=\"video/mp4\">\n",
    "</video>"
   ]
  },
  {
   "cell_type": "code",
   "execution_count": null,
   "id": "3edb7985",
   "metadata": {},
   "outputs": [],
   "source": []
  }
 ],
 "metadata": {
  "kernelspec": {
   "display_name": "Python 3.9.6 64-bit",
   "language": "python",
   "name": "python3"
  },
  "language_info": {
   "codemirror_mode": {
    "name": "ipython",
    "version": 3
   },
   "file_extension": ".py",
   "mimetype": "text/x-python",
   "name": "python",
   "nbconvert_exporter": "python",
   "pygments_lexer": "ipython3",
   "version": "3.9.6"
  },
  "vscode": {
   "interpreter": {
    "hash": "31f2aee4e71d21fbe5cf8b01ff0e069b9275f58929596ceb00d14d90e3e16cd6"
   }
  }
 },
 "nbformat": 4,
 "nbformat_minor": 5
}
